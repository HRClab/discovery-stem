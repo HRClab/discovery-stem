{
 "cells": [
  {
   "cell_type": "markdown",
   "metadata": {
    "nbgrader": {
     "grade": false,
     "grade_id": "TopTxt",
     "locked": true,
     "solution": false
    }
   },
   "source": [
    "In this lesson, we will introduce basic concepts of programming. We will use the a language called Python.\n",
    "\n",
    "***\n",
    "## Hello World\n",
    "\n",
    "To introduce programming, it is helpful to start with the simplest program that does anything. This is called the \"Hello World\" Program. \n",
    "\n",
    "### Running the program\n",
    "\n",
    "* Click the box below so that it becomes outlined\n",
    "* Press the \"Play\" button or at the top of the page or type `SHIFT+ENTER`"
   ]
  },
  {
   "cell_type": "code",
   "execution_count": 2,
   "metadata": {
    "collapsed": false,
    "nbgrader": {
     "grade": false,
     "grade_id": "FirstHello",
     "locked": true,
     "solution": false
    },
    "run_control": {
     "read_only": true
    }
   },
   "outputs": [
    {
     "name": "stdout",
     "output_type": "stream",
     "text": [
      "Hello World\n"
     ]
    }
   ],
   "source": [
    "print 'Hello World'"
   ]
  },
  {
   "cell_type": "markdown",
   "metadata": {
    "nbgrader": {
     "grade": false,
     "grade_id": "YourHelloTxt",
     "locked": true,
     "solution": false
    },
    "run_control": {
     "read_only": false
    }
   },
   "source": [
    "***\n",
    "## Problem 1\n",
    "\n",
    "In the box below, make your own program that says something different. You can run the program like you did for the original \"Hello World\" program.\n",
    "\n",
    "* You will need to delete the text `raise NotImplementedError()` before trying your code out. \n",
    "* The text `# YOUR CODE HERE` is called a *comment* and can be left in or removed."
   ]
  },
  {
   "cell_type": "code",
   "execution_count": 8,
   "metadata": {
    "collapsed": false,
    "nbgrader": {
     "grade": true,
     "grade_id": "YourHello",
     "locked": false,
     "points": 1,
     "solution": true
    },
    "run_control": {
     "read_only": false
    }
   },
   "outputs": [],
   "source": [
    "# Put your code here"
   ]
  },
  {
   "cell_type": "markdown",
   "metadata": {
    "nbgrader": {
     "grade": false,
     "grade_id": "VarTxt",
     "locked": true,
     "solution": false
    }
   },
   "source": [
    "***\n",
    "## Variables\n",
    "When programming, numbers and text are stored in *variables*. The value of a variable can be used and changed by the program.\n",
    "\n",
    "Run the code below (using \"Play\" or `SHIFT+ENTER`) to see how variables work."
   ]
  },
  {
   "cell_type": "code",
   "execution_count": 14,
   "metadata": {
    "collapsed": false,
    "nbgrader": {
     "grade": false,
     "grade_id": "VarCode",
     "locked": true,
     "solution": false
    },
    "run_control": {
     "read_only": false
    }
   },
   "outputs": [
    {
     "name": "stdout",
     "output_type": "stream",
     "text": [
      "2\n",
      "3\n",
      "6\n"
     ]
    }
   ],
   "source": [
    "x = 2\n",
    "print x\n",
    "y = 3\n",
    "print y\n",
    "x = x*y\n",
    "print x"
   ]
  },
  {
   "cell_type": "markdown",
   "metadata": {
    "nbgrader": {
     "grade": false,
     "grade_id": "AssignmentTxt",
     "locked": true,
     "solution": false
    }
   },
   "source": [
    "***\n",
    "In the code from before, the expression \n",
    "```\n",
    "x = x*y\n",
    "```\n",
    "should not be interpeted as it would be in mathematics. (Indeed, it would be wrong!)\n",
    "\n",
    "Instead, it should be interpretted as: \n",
    "\n",
    "\"The new value of `x` is given by the current value of `x` multiplied by the current value of `y`.\"\n",
    "\n",
    "***\n",
    "## Problem 2\n",
    "Write a program that prints the value of $y$ when $x=2$ and \n",
    "\n",
    "$$y = x^2+1$$\n",
    "\n",
    "As before, you'll need to remove the line `raise NotImplementedError()`. Run your code to make sure that you get the correct result."
   ]
  },
  {
   "cell_type": "code",
   "execution_count": null,
   "metadata": {
    "collapsed": true,
    "nbgrader": {
     "grade": true,
     "grade_id": "VarProb",
     "locked": false,
     "points": 1,
     "solution": true
    },
    "run_control": {
     "read_only": false
    }
   },
   "outputs": [],
   "source": []
  },
  {
   "cell_type": "markdown",
   "metadata": {
    "nbgrader": {
     "grade": false,
     "grade_id": "LoopTxt",
     "locked": true,
     "solution": false
    }
   },
   "source": [
    "***\n",
    "## Loops\n",
    "\n",
    "One of the most important concepts in programming is a \"loop\". A loop executes a section of code repeatedly. Run the code below for an example."
   ]
  },
  {
   "cell_type": "code",
   "execution_count": 17,
   "metadata": {
    "collapsed": false,
    "nbgrader": {
     "grade": false,
     "grade_id": "LoopShow",
     "locked": true,
     "points": 1,
     "solution": false
    },
    "run_control": {
     "read_only": false
    }
   },
   "outputs": [
    {
     "name": "stdout",
     "output_type": "stream",
     "text": [
      "1\n",
      "2\n",
      "3\n",
      "4\n",
      "5\n",
      "6\n",
      "7\n",
      "8\n",
      "9\n",
      "10\n"
     ]
    }
   ],
   "source": [
    "i = 0\n",
    "while i < 10:\n",
    "    i = i+1\n",
    "    print i\n",
    "    "
   ]
  },
  {
   "cell_type": "markdown",
   "metadata": {
    "nbgrader": {
     "grade": false,
     "grade_id": "IndentTxt",
     "locked": true,
     "solution": false
    }
   },
   "source": [
    "***\n",
    "The Python language requires all of the code to be executed in a loop be indented with a `TAB`. So, the following loop, which looks similar to the loop we just saw, actually has different behavior. Run it to see."
   ]
  },
  {
   "cell_type": "code",
   "execution_count": 15,
   "metadata": {
    "collapsed": false,
    "nbgrader": {
     "grade": false,
     "grade_id": "LoopIndentShow",
     "locked": true,
     "solution": false
    }
   },
   "outputs": [
    {
     "name": "stdout",
     "output_type": "stream",
     "text": [
      "10\n"
     ]
    }
   ],
   "source": [
    "i = 0\n",
    "while i < 10:\n",
    "    i = i+1\n",
    "print i"
   ]
  },
  {
   "cell_type": "markdown",
   "metadata": {
    "nbgrader": {
     "grade": false,
     "grade_id": "LoopProbTxt",
     "locked": true,
     "solution": false
    }
   },
   "source": [
    "***\n",
    "## Problem 3\n",
    "Now implement your own loop that prints the numbers 1,4,9,16,25,36,49,64,81,100. Run it to check your result.\n",
    "\n",
    "As usual, you must first remove the `raise NotImplementedError()` line."
   ]
  },
  {
   "cell_type": "code",
   "execution_count": 16,
   "metadata": {
    "collapsed": false,
    "nbgrader": {
     "grade": true,
     "grade_id": "LoopProb",
     "locked": false,
     "points": 1,
     "solution": true
    }
   },
   "outputs": [
    {
     "name": "stdout",
     "output_type": "stream",
     "text": [
      "1\n",
      "4\n",
      "9\n",
      "16\n",
      "25\n",
      "36\n",
      "49\n",
      "64\n",
      "81\n",
      "100\n"
     ]
    }
   ],
   "source": [
    "i=0\n",
    "while i<10:\n",
    "    i = i+1\n",
    "    j = i * i\n",
    "    print j"
   ]
  },
  {
   "cell_type": "markdown",
   "metadata": {},
   "source": [
    "***\n",
    "## Congratulations\n",
    "You have completed the lesson on Python programming."
   ]
  }
 ],
 "metadata": {
  "celltoolbar": "Create Assignment",
  "kernelspec": {
   "display_name": "Python 2",
   "language": "python",
   "name": "python2"
  },
  "language_info": {
   "codemirror_mode": {
    "name": "ipython",
    "version": 2
   },
   "file_extension": ".py",
   "mimetype": "text/x-python",
   "name": "python",
   "nbconvert_exporter": "python",
   "pygments_lexer": "ipython2",
   "version": "2.7.8"
  }
 },
 "nbformat": 4,
 "nbformat_minor": 0
}
