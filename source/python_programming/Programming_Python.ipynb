{
 "cells": [
  {
   "cell_type": "markdown",
   "metadata": {
    "nbgrader": {
     "grade": false,
     "grade_id": "TopTxt",
     "locked": true,
     "solution": false
    }
   },
   "source": [
    "In this lesson, we will introduce basic concepts of programming. We will use the a language called Python.\n",
    "\n",
    "# Hello World\n",
    "\n",
    "To introduce programming, it is helpful to start with the simplest program that does anything. This is called the \"Hello World\" Program:\n",
    "\n",
    "# Loops"
   ]
  },
  {
   "cell_type": "code",
   "execution_count": 2,
   "metadata": {
    "collapsed": false,
    "nbgrader": {
     "grade": false,
     "grade_id": "FirstHello",
     "locked": true,
     "solution": false
    },
    "run_control": {
     "read_only": true
    }
   },
   "outputs": [
    {
     "name": "stdout",
     "output_type": "stream",
     "text": [
      "Hello World\n"
     ]
    }
   ],
   "source": [
    "print 'Hello World'"
   ]
  },
  {
   "cell_type": "markdown",
   "metadata": {
    "nbgrader": {
     "grade": false,
     "grade_id": "YourHelloTxt",
     "locked": true,
     "solution": false
    },
    "run_control": {
     "read_only": false
    }
   },
   "source": [
    "In the box below, make your own program that says something different. You can test your program by pressing the \"Play\" button at the top, or typing `SHIFT+ENTER`."
   ]
  },
  {
   "cell_type": "code",
   "execution_count": null,
   "metadata": {
    "collapsed": true,
    "nbgrader": {
     "grade": true,
     "grade_id": "YourHello",
     "locked": false,
     "points": 1,
     "solution": true
    },
    "run_control": {
     "read_only": false
    }
   },
   "outputs": [],
   "source": []
  }
 ],
 "metadata": {
  "celltoolbar": "Create Assignment",
  "kernelspec": {
   "display_name": "Python 2",
   "language": "python",
   "name": "python2"
  },
  "language_info": {
   "codemirror_mode": {
    "name": "ipython",
    "version": 2
   },
   "file_extension": ".py",
   "mimetype": "text/x-python",
   "name": "python",
   "nbconvert_exporter": "python",
   "pygments_lexer": "ipython2",
   "version": "2.7.8"
  }
 },
 "nbformat": 4,
 "nbformat_minor": 0
}
