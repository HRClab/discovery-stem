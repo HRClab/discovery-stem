{
 "cells": [
  {
   "cell_type": "code",
   "execution_count": 17,
   "metadata": {
    "collapsed": true,
    "nbgrader": {
     "grade": false,
     "grade_id": "Packages",
     "locked": true,
     "solution": false
    }
   },
   "outputs": [],
   "source": [
    "import matplotlib.pyplot as plt\n",
    "import numpy as np\n",
    "%matplotlib inline"
   ]
  },
  {
   "cell_type": "markdown",
   "metadata": {
    "nbgrader": {
     "grade": false,
     "grade_id": "NewtonTxt",
     "locked": true,
     "solution": false
    }
   },
   "source": [
    "In this lesson we will discuss modeling mathematical modeling and computer simulation.\n",
    "\n",
    "We'll do a little bit of theory and then you can do some coding!\n",
    "\n",
    "# Newton's Second Law\n",
    "***\n",
    "\n",
    "This is probably the most important rule in all of physics. It is written as\n",
    "\n",
    "$$\\textrm{Force = Mass x Acceleration}$$\n",
    "\n",
    "or in mathematical terms:\n",
    "\n",
    "$$F = ma$$\n",
    "\n",
    "This seemingly simple equation is the basis for how robots, our bodies, and just about everything we can see moves. In this lesson, we will unravel some of the details of Newton's second law, and see how it can be used in simulations.\n",
    "\n",
    "To understand how Newton's law leads to equations of motion, we must first understand the relationships between position, velocity, and acceleration. \n",
    "\n",
    "* *velocity* is the rate of change of position\n",
    "* *acceleration* is the rate of change of acceleration\n",
    "\n",
    "So, Newton's law implies that if you apply a force to an object, this causes an acceleration, which makes it move faster. \n",
    "\n",
    "Now we will examine the simplest relationship in detail. \n",
    "\n",
    "# Velocity and Position\n",
    "***\n",
    "\n",
    "The position and velocity will typically be functions of time $p(t)$ and $v(t)$. \n",
    "\n",
    "The *average velocity* (over some time period) is defined as \n",
    "$$\n",
    "v_{\\textrm{ave}} = \\frac{\\textrm{Change in position}}{\\textrm{Change in time}}\n",
    "$$\n",
    "\n",
    "In more mathematical terms, at any two points in time $t_0$ and $t_1$, the position, $p$, satisfies\n",
    "\n",
    "$$\n",
    "\\frac{p(t_1)-p(t_0)}{t_1-t_0} = v_{\\textrm{ave}}\n",
    "$$\n",
    "\n",
    "If the time interval $[t_0,t_1]$ is very small, then the velocity cannot change very much in the interval, and so $v(t_0) \\approx v_{\\textrm{ave}}$, i.e. the values are very close.\n",
    "\n",
    "This leads to the approximate equality\n",
    "\n",
    "$$\n",
    "\\frac{p(t_1)-p(t_0)}{t_1-t_0} \\approx v(t_0)\n",
    "$$\n",
    "\n",
    "\n",
    "which can be rearranged to give\n",
    "\n",
    "$$p(t_1) \\approx p(t_0) + v(t_0) \\cdot (t_1 - t_0)$$\n",
    "\n",
    "This expression is well-suited for programming: Say that the current time $t=t_0$ and that $t_1 = t+dt$ for some small\n",
    "number $dt$. Given the current position $p(t)$ and current velocity $v(t)$, the expression gives us a way to approximate the value of the position at time in the near future:\n",
    "\n",
    "$$p(t+dt) \\approx p(t) + v(t) \\cdot dt $$\n",
    "\n",
    "The small number $dt$ is called the *time step size*\n",
    "\n",
    "## Problem 1\n",
    "***\n",
    "Write a function that takes a current position, a current velocity, and a time step, $dt$ and returns the new position after a time step of size $dt$. "
   ]
  },
  {
   "cell_type": "code",
   "execution_count": 18,
   "metadata": {
    "collapsed": true,
    "nbgrader": {
     "grade": true,
     "grade_id": "PosChange",
     "locked": false,
     "points": 1,
     "solution": true
    }
   },
   "outputs": [],
   "source": [
    "def change_of_position(p,v,dt):\n",
    "    \"\"\"\n",
    "    Given:\n",
    "    current position p (at time t)\n",
    "    current velocity v (at time t)\n",
    "    compute the position at time t+dt\n",
    "    \"\"\"\n",
    "    ### BEGIN SOLUTION\n",
    "    return p + v * dt\n",
    "    ### END SOLUTION"
   ]
  },
  {
   "cell_type": "markdown",
   "metadata": {
    "nbgrader": {
     "grade": false,
     "grade_id": "PosChangeTestTxt",
     "locked": true,
     "solution": false
    }
   },
   "source": [
    "We can test this code by putting it into a loop."
   ]
  },
  {
   "cell_type": "code",
   "execution_count": 19,
   "metadata": {
    "collapsed": false,
    "nbgrader": {
     "grade": false,
     "grade_id": "PosChangeTest",
     "locked": true,
     "solution": false
    }
   },
   "outputs": [
    {
     "name": "stdout",
     "output_type": "stream",
     "text": [
      "time: 0.0\tposition: 0.0\tvelocity: 2.0\n",
      "time: 0.1\tposition: 0.2\tvelocity: 2.0\n",
      "time: 0.2\tposition: 0.4\tvelocity: 2.0\n",
      "time: 0.3\tposition: 0.6\tvelocity: 2.0\n",
      "time: 0.4\tposition: 0.8\tvelocity: 2.0\n",
      "time: 0.5\tposition: 1.0\tvelocity: 2.0\n",
      "time: 0.6\tposition: 1.2\tvelocity: 2.0\n",
      "time: 0.7\tposition: 1.4\tvelocity: 2.0\n",
      "time: 0.8\tposition: 1.6\tvelocity: 2.0\n",
      "time: 0.9\tposition: 1.8\tvelocity: 2.0\n",
      "time: 1.0\tposition: 2.0\tvelocity: 2.0\n"
     ]
    }
   ],
   "source": [
    "t = 0\n",
    "p = 0\n",
    "v = 2\n",
    "\n",
    "dt = 0.1\n",
    "while t <= 1:\n",
    "    print 'time: %.1f\\tposition: %.1f\\tvelocity: %.1f' % (t,p,v)\n",
    "    t = t+dt\n",
    "    p = change_of_position(p,v,dt)"
   ]
  },
  {
   "cell_type": "markdown",
   "metadata": {
    "nbgrader": {
     "grade": false,
     "grade_id": "PosChangeTestExp",
     "locked": true,
     "solution": false
    }
   },
   "source": [
    "We should see the position increase from 0 to 2, while the velocity should stay constant.\n",
    "\n",
    "\n",
    "# Velocity and Acceleration\n",
    "***\n",
    "Now we will focus on the relationship between velocity and acceleration. Mathematically, acceleration specifies changes in velocity in the same way that velocity specifies changes in position. \n",
    "\n",
    "Rather than going through a derivation, we will just focus on how we would use acceleration to compute velocities in a program. Given the current velocity $v(t)$, the current acceleration $a(t)$, and a small time step size, $dt$, the velocity at time $t+dt$ is given (approximately) by:\n",
    "$$v(t+dt) \\approx v(t) + a(t) \\cdot dt $$\n",
    "\n",
    "## Problem 2\n",
    "***\n",
    "Write a function that gives the new velocity when given the current velocity, the current acceleration, and a time step size."
   ]
  },
  {
   "cell_type": "code",
   "execution_count": 20,
   "metadata": {
    "collapsed": true,
    "nbgrader": {
     "grade": true,
     "grade_id": "VelChangeProb",
     "locked": false,
     "points": 1,
     "solution": true
    }
   },
   "outputs": [],
   "source": [
    "def change_of_velocity(v,a,dt):\n",
    "    \"\"\"\n",
    "    Given:\n",
    "    current velocity v (at time t)\n",
    "    current acceleration a (at time t)\n",
    "    compute the velocity at time t+dt\n",
    "    \"\"\"\n",
    "    ### BEGIN SOLUTION\n",
    "    return v + a * dt\n",
    "    ### END SOLUTION"
   ]
  },
  {
   "cell_type": "markdown",
   "metadata": {
    "nbgrader": {
     "grade": false,
     "grade_id": "VelChangeCheckTxt",
     "locked": true,
     "solution": false
    }
   },
   "source": [
    "Now we check it by putting the code into a loop"
   ]
  },
  {
   "cell_type": "code",
   "execution_count": 37,
   "metadata": {
    "collapsed": false,
    "nbgrader": {
     "grade": false,
     "grade_id": "VelChangeCheck",
     "locked": true,
     "solution": false
    }
   },
   "outputs": [
    {
     "name": "stdout",
     "output_type": "stream",
     "text": [
      "time: 0.0\tposition: 0.0\tvelocity: 0.0\tacceleration: 2.0\n",
      "time: 0.1\tposition: 0.0\tvelocity: 0.2\tacceleration: 2.0\n",
      "time: 0.2\tposition: 0.0\tvelocity: 0.4\tacceleration: 2.0\n",
      "time: 0.3\tposition: 0.1\tvelocity: 0.6\tacceleration: 2.0\n",
      "time: 0.4\tposition: 0.1\tvelocity: 0.8\tacceleration: 2.0\n",
      "time: 0.5\tposition: 0.2\tvelocity: 1.0\tacceleration: 2.0\n",
      "time: 0.6\tposition: 0.3\tvelocity: 1.2\tacceleration: 2.0\n",
      "time: 0.7\tposition: 0.4\tvelocity: 1.4\tacceleration: 2.0\n",
      "time: 0.8\tposition: 0.6\tvelocity: 1.6\tacceleration: 2.0\n",
      "time: 0.9\tposition: 0.7\tvelocity: 1.8\tacceleration: 2.0\n",
      "time: 1.0\tposition: 0.9\tvelocity: 2.0\tacceleration: 2.0\n",
      "time: 1.1\tposition: 1.1\tvelocity: 2.2\tacceleration: 2.0\n",
      "time: 1.2\tposition: 1.3\tvelocity: 2.4\tacceleration: 2.0\n",
      "time: 1.3\tposition: 1.6\tvelocity: 2.6\tacceleration: 2.0\n",
      "time: 1.4\tposition: 1.8\tvelocity: 2.8\tacceleration: 2.0\n",
      "time: 1.5\tposition: 2.1\tvelocity: 3.0\tacceleration: 2.0\n",
      "time: 1.6\tposition: 2.4\tvelocity: 3.2\tacceleration: 2.0\n",
      "time: 1.7\tposition: 2.7\tvelocity: 3.4\tacceleration: 2.0\n",
      "time: 1.8\tposition: 3.1\tvelocity: 3.6\tacceleration: 2.0\n",
      "time: 1.9\tposition: 3.4\tvelocity: 3.8\tacceleration: 2.0\n"
     ]
    },
    {
     "data": {
      "text/plain": [
       "<matplotlib.text.Text at 0x109d96d10>"
      ]
     },
     "execution_count": 37,
     "metadata": {},
     "output_type": "execute_result"
    },
    {
     "data": {
      "image/png": "[encoded data removed]",
      "text/plain": [
       "<matplotlib.figure.Figure at 0x10b8f5d50>"
      ]
     },
     "metadata": {},
     "output_type": "display_data"
    }
   ],
   "source": [
    "t = 0\n",
    "p = 0\n",
    "v = 0\n",
    "a = 2\n",
    "\n",
    "T = [t]; P = [p]; V = [v]\n",
    "\n",
    "dt = 0.1\n",
    "while t <= 2:\n",
    "    print 'time: %.1f\\tposition: %.1f\\tvelocity: %.1f\\tacceleration: %.1f' % (t,p,v,a)\n",
    "    t = t+dt\n",
    "    new_p = change_of_position(p,v,dt)\n",
    "    new_v = change_of_velocity(v,a,dt)\n",
    "    v = new_v\n",
    "    p = new_p\n",
    "    T.append(t); P.append(p); V.append(v)\n",
    "    \n",
    "linep, = plt.plot(T,P)\n",
    "linev, = plt.plot(T,V)\n",
    "plt.legend((linep,linev),('Position','Velocity'),'best')\n",
    "plt.xlabel('time')"
   ]
  },
  {
   "cell_type": "markdown",
   "metadata": {
    "nbgrader": {
     "grade": false,
     "grade_id": "VelChangeCheckTxt2",
     "locked": true,
     "solution": false
    }
   },
   "source": [
    "Now we should see that the velocity increases linearly, while the position increases like a parabola."
   ]
  },
  {
   "cell_type": "markdown",
   "metadata": {
    "nbgrader": {
     "grade": false,
     "grade_id": "ForceText",
     "locked": true,
     "solution": false
    }
   },
   "source": [
    "# Forces\n",
    "***\n",
    "For the movement of an object, we cannot control position and velocity directly. Instead, we can influence position and velocity by applying forces, which change acceleration, and thus velocity and position. \n",
    "\n",
    "In a later lesson, we will explore good rules for applying forces. For now, we will just examine the behavior caused by a sequence of forces.\n",
    "\n",
    "Newton's second law implies that at any time $F(t)=ma(t)$. Thus, given the current force $F(t)$, the acceleration can be computed as\n",
    "$$\n",
    "a(t) = F(t) / m\n",
    "$$\n",
    "\n",
    "## Problem 3\n",
    "***\n",
    "Use your `change_of_position` and `change_of_velocity` to write a function that computes new values for position and velocity, given their current values, the current force, the mass, and the time step size. \n",
    "\n",
    "Hint: To return two values `new_p` and `new_v`, the variables are separated by a comma: `return new_p, new_v`"
   ]
  },
  {
   "cell_type": "code",
   "execution_count": 38,
   "metadata": {
    "collapsed": true,
    "nbgrader": {
     "grade": true,
     "grade_id": "FullDynamicsProb",
     "locked": false,
     "points": 1,
     "solution": true
    }
   },
   "outputs": [],
   "source": [
    "def change_of_position_and_velocity(p,v,F,m,dt):\n",
    "    \"\"\"\n",
    "    Given:\n",
    "        Current position p\n",
    "        Current velocity v\n",
    "        Current Force F\n",
    "        Mass of the object m\n",
    "        time step size dt\n",
    "    \n",
    "    Calculate new_p and new_v the position and velocity after time step dt\n",
    "    return new_p, new_v\n",
    "    \"\"\"\n",
    "    ### BEGIN SOLUTION\n",
    "    a = F / m\n",
    "    new_p = change_of_position(p,v,dt)\n",
    "    new_v = change_of_velocity(v,a,dt)\n",
    "    return new_p, new_v\n",
    "    ### END SOLUTION"
   ]
  },
  {
   "cell_type": "markdown",
   "metadata": {
    "nbgrader": {
     "grade": false,
     "grade_id": "FullDynamicsTxt",
     "locked": true,
     "solution": false
    }
   },
   "source": [
    "Now we can test the code with a simulation"
   ]
  },
  {
   "cell_type": "code",
   "execution_count": 48,
   "metadata": {
    "collapsed": false
   },
   "outputs": [
    {
     "data": {
      "text/plain": [
       "<matplotlib.text.Text at 0x10b84f550>"
      ]
     },
     "execution_count": 48,
     "metadata": {},
     "output_type": "execute_result"
    },
    {
     "data": {
      "image/png": "[encoded data removed]",
      "text/plain": [
       "<matplotlib.figure.Figure at 0x10aa84050>"
      ]
     },
     "metadata": {},
     "output_type": "display_data"
    }
   ],
   "source": [
    "t = 0\n",
    "p = 0\n",
    "v = 0\n",
    "f = 0\n",
    "\n",
    "T = [t]; P = [p]; V = [v]; F = [f]\n",
    "\n",
    "dt = 0.01\n",
    "m = 0.1\n",
    "\n",
    "while t < 2:\n",
    "    t = t + dt\n",
    "    p,v = change_of_position_and_velocity(p,v,f,m,dt)\n",
    "    f =  np.sin(2 * np.pi * t)\n",
    "    T.append(t); P.append(p); V.append(v); F.append(f)\n",
    "    \n",
    "linep, = plt.plot(T,P)\n",
    "linev, = plt.plot(T,V)\n",
    "linef, = plt.plot(T,F)\n",
    "plt.legend((linep,linev,linef),('Position','Velocity','Force'),'best')\n",
    "plt.xlabel('time')"
   ]
  },
  {
   "cell_type": "markdown",
   "metadata": {
    "nbgrader": {
     "grade": false,
     "grade_id": "HOORAH",
     "locked": true,
     "solution": false
    }
   },
   "source": [
    "# HOORAH!\n",
    "Another lesson done."
   ]
  }
 ],
 "metadata": {
  "celltoolbar": "Create Assignment",
  "kernelspec": {
   "display_name": "Python 2",
   "language": "python",
   "name": "python2"
  },
  "language_info": {
   "codemirror_mode": {
    "name": "ipython",
    "version": 2
   },
   "file_extension": ".py",
   "mimetype": "text/x-python",
   "name": "python",
   "nbconvert_exporter": "python",
   "pygments_lexer": "ipython2",
   "version": "2.7.8"
  }
 },
 "nbformat": 4,
 "nbformat_minor": 0
}
