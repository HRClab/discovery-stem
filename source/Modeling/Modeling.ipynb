{
 "cells": [
  {
   "cell_type": "markdown",
   "metadata": {},
   "source": [
    "In this lesson we will discuss modeling mathematical modeling and computer simulation.\n",
    "\n",
    "We'll do a little bit of theory and then you can do some coding!\n",
    "\n",
    "# Newton's Second Law\n",
    "\n",
    "This is probably the most important rule in all of physics. It is written as\n",
    "\n",
    "$$\\textrm{Force = Mass x Acceleration}$$\n",
    "\n",
    "or in mathematical terms:\n",
    "\n",
    "$$F = ma$$\n",
    "\n",
    "This seemingly simple equation is the basis for how robots, our bodies, and just about everything we can see moves. In this lesson, we will unravel some of the details of Newton's second law. \n",
    "\n",
    "## Position, Acceleration, and Velocity\n",
    "\n",
    "* *Position* is just the location of a point.\n",
    "* *Acceleration* -  "
   ]
  },
  {
   "cell_type": "code",
   "execution_count": 1,
   "metadata": {
    "collapsed": false
   },
   "outputs": [
    {
     "name": "stdout",
     "output_type": "stream",
     "text": [
      "2\n"
     ]
    }
   ],
   "source": [
    "m = 2\n",
    "a = 1\n",
    "F = m*a\n",
    "print F"
   ]
  },
  {
   "cell_type": "markdown",
   "metadata": {},
   "source": [
    "$\\int_0^t x(\\tau)d\\tau = g$"
   ]
  },
  {
   "cell_type": "code",
   "execution_count": null,
   "metadata": {
    "collapsed": true
   },
   "outputs": [],
   "source": []
  }
 ],
 "metadata": {
  "kernelspec": {
   "display_name": "Python 2",
   "language": "python",
   "name": "python2"
  },
  "language_info": {
   "codemirror_mode": {
    "name": "ipython",
    "version": 2
   },
   "file_extension": ".py",
   "mimetype": "text/x-python",
   "name": "python",
   "nbconvert_exporter": "python",
   "pygments_lexer": "ipython2",
   "version": "2.7.8"
  }
 },
 "nbformat": 4,
 "nbformat_minor": 0
}
